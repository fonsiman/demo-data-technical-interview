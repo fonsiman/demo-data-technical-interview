{
 "cells": [
  {
   "cell_type": "markdown",
   "metadata": {},
   "source": [
    "# TOP 500 supercomputer mining - Challenge 2\n",
    "\n",
    "In this challenge use Pandas to read the search results data in your MySQL table. Create a DataFrame that contains all the search results, then generate a data visualization plot (or several) from the DataFrame.\n",
    "\n",
    "Try to answer the following questions:\n",
    "\n",
    "* Is there a relationship between year and consumed power?\n",
    "* And between power and cores?\n",
    "* Which is the company with more supercomputers?\n",
    "* Which country have more computacional power?\n",
    "* The computacional power has increased over the years?"
   ]
  },
  {
   "cell_type": "code",
   "execution_count": 2,
   "metadata": {},
   "outputs": [
    {
     "name": "stdout",
     "output_type": "stream",
     "text": [
      "········\n",
      "Connected to DB!\n"
     ]
    }
   ],
   "source": [
    "# Your code here\n",
    "\n",
    "import pandas as pd\n",
    "import numpy as np\n",
    "import getpass\n",
    "import pymysql\n",
    "from sqlalchemy import create_engine, select, MetaData, Table\n",
    "\n",
    "mysql_domain = \"localhost\"\n",
    "mysql_user = \"root\"\n",
    "mysql_password = getpass.getpass()\n",
    "mysql_db = \"prueba_tecnica\"\n",
    "\n",
    "dbdata = [mysql_user, mysql_password, mysql_domain, mysql_db]\n",
    "connection_url = 'mysql+pymysql://{}:{}@{}/{}'.format(*dbdata)\n",
    "engine = create_engine(connection_url)\n",
    "print(\"Connected to DB!\")"
   ]
  },
  {
   "cell_type": "code",
   "execution_count": 3,
   "metadata": {},
   "outputs": [
    {
     "data": {
      "text/html": [
       "<div>\n",
       "<style scoped>\n",
       "    .dataframe tbody tr th:only-of-type {\n",
       "        vertical-align: middle;\n",
       "    }\n",
       "\n",
       "    .dataframe tbody tr th {\n",
       "        vertical-align: top;\n",
       "    }\n",
       "\n",
       "    .dataframe thead th {\n",
       "        text-align: right;\n",
       "    }\n",
       "</style>\n",
       "<table border=\"1\" class=\"dataframe\">\n",
       "  <thead>\n",
       "    <tr style=\"text-align: right;\">\n",
       "      <th></th>\n",
       "      <th>ranking</th>\n",
       "      <th>name</th>\n",
       "      <th>year</th>\n",
       "      <th>month</th>\n",
       "      <th>description</th>\n",
       "      <th>company</th>\n",
       "      <th>country</th>\n",
       "      <th>cores</th>\n",
       "      <th>rmax</th>\n",
       "      <th>rpeak</th>\n",
       "      <th>power</th>\n",
       "    </tr>\n",
       "  </thead>\n",
       "  <tbody>\n",
       "    <tr>\n",
       "      <th>0</th>\n",
       "      <td>1</td>\n",
       "      <td>Tianhe-2A</td>\n",
       "      <td>2014</td>\n",
       "      <td>6</td>\n",
       "      <td>National Super Computer Center in Guangzhou Cl...</td>\n",
       "      <td>NUDT</td>\n",
       "      <td>China</td>\n",
       "      <td>3120000</td>\n",
       "      <td>33862.7</td>\n",
       "      <td>54902.4</td>\n",
       "      <td>17808.0</td>\n",
       "    </tr>\n",
       "    <tr>\n",
       "      <th>1</th>\n",
       "      <td>2</td>\n",
       "      <td>Titan</td>\n",
       "      <td>2014</td>\n",
       "      <td>6</td>\n",
       "      <td>DOE/SC/Oak Ridge National Laboratory XK7 Opter...</td>\n",
       "      <td>Cray Inc.</td>\n",
       "      <td>United States</td>\n",
       "      <td>560640</td>\n",
       "      <td>17590.0</td>\n",
       "      <td>27112.5</td>\n",
       "      <td>8209.0</td>\n",
       "    </tr>\n",
       "    <tr>\n",
       "      <th>2</th>\n",
       "      <td>3</td>\n",
       "      <td>Sequoia</td>\n",
       "      <td>2014</td>\n",
       "      <td>6</td>\n",
       "      <td>DOE/NNSA/LLNL Power BQC 16C 1.60 GHz</td>\n",
       "      <td>IBM</td>\n",
       "      <td>United States</td>\n",
       "      <td>1572864</td>\n",
       "      <td>17173.2</td>\n",
       "      <td>20132.7</td>\n",
       "      <td>7890.0</td>\n",
       "    </tr>\n",
       "    <tr>\n",
       "      <th>3</th>\n",
       "      <td>4</td>\n",
       "      <td>None</td>\n",
       "      <td>2014</td>\n",
       "      <td>6</td>\n",
       "      <td>RIKEN Advanced Institute for Computational Sci...</td>\n",
       "      <td>Fujitsu</td>\n",
       "      <td>Japan</td>\n",
       "      <td>705024</td>\n",
       "      <td>10510.0</td>\n",
       "      <td>11280.4</td>\n",
       "      <td>12660.0</td>\n",
       "    </tr>\n",
       "    <tr>\n",
       "      <th>4</th>\n",
       "      <td>5</td>\n",
       "      <td>Mira</td>\n",
       "      <td>2014</td>\n",
       "      <td>6</td>\n",
       "      <td>DOE/SC/Argonne National Laboratory Power BQC 1...</td>\n",
       "      <td>IBM</td>\n",
       "      <td>United States</td>\n",
       "      <td>786432</td>\n",
       "      <td>8586.6</td>\n",
       "      <td>10066.3</td>\n",
       "      <td>3945.0</td>\n",
       "    </tr>\n",
       "  </tbody>\n",
       "</table>\n",
       "</div>"
      ],
      "text/plain": [
       "   ranking       name  year  month  \\\n",
       "0        1  Tianhe-2A  2014      6   \n",
       "1        2      Titan  2014      6   \n",
       "2        3    Sequoia  2014      6   \n",
       "3        4       None  2014      6   \n",
       "4        5       Mira  2014      6   \n",
       "\n",
       "                                         description    company  \\\n",
       "0  National Super Computer Center in Guangzhou Cl...       NUDT   \n",
       "1  DOE/SC/Oak Ridge National Laboratory XK7 Opter...  Cray Inc.   \n",
       "2               DOE/NNSA/LLNL Power BQC 16C 1.60 GHz        IBM   \n",
       "3  RIKEN Advanced Institute for Computational Sci...    Fujitsu   \n",
       "4  DOE/SC/Argonne National Laboratory Power BQC 1...        IBM   \n",
       "\n",
       "         country    cores     rmax    rpeak    power  \n",
       "0          China  3120000  33862.7  54902.4  17808.0  \n",
       "1  United States   560640  17590.0  27112.5   8209.0  \n",
       "2  United States  1572864  17173.2  20132.7   7890.0  \n",
       "3          Japan   705024  10510.0  11280.4  12660.0  \n",
       "4  United States   786432   8586.6  10066.3   3945.0  "
      ]
     },
     "execution_count": 3,
     "metadata": {},
     "output_type": "execute_result"
    }
   ],
   "source": [
    "metadata = MetaData(bind=None)\n",
    "top500 = Table('top500', metadata, autoload = True, autoload_with = engine)\n",
    "s = select([top500])\n",
    "result = engine.execute(s)\n",
    "\n",
    "df = pd.DataFrame(result, columns = engine.execute(s).keys())\n",
    "\n",
    "df.head()"
   ]
  },
  {
   "cell_type": "code",
   "execution_count": 4,
   "metadata": {},
   "outputs": [
    {
     "name": "stdout",
     "output_type": "stream",
     "text": [
      "<class 'pandas.core.frame.DataFrame'>\n",
      "RangeIndex: 5000 entries, 0 to 4999\n",
      "Data columns (total 11 columns):\n",
      "ranking        5000 non-null int64\n",
      "name           5000 non-null object\n",
      "year           5000 non-null int64\n",
      "month          5000 non-null int64\n",
      "description    5000 non-null object\n",
      "company        5000 non-null object\n",
      "country        5000 non-null object\n",
      "cores          5000 non-null int64\n",
      "rmax           5000 non-null float64\n",
      "rpeak          5000 non-null float64\n",
      "power          3472 non-null float64\n",
      "dtypes: float64(3), int64(4), object(4)\n",
      "memory usage: 429.8+ KB\n"
     ]
    }
   ],
   "source": [
    "df.info()"
   ]
  },
  {
   "cell_type": "code",
   "execution_count": 5,
   "metadata": {},
   "outputs": [],
   "source": [
    "df.fillna(value=np.nan, inplace=True)"
   ]
  },
  {
   "cell_type": "markdown",
   "metadata": {},
   "source": [
    "# Is there a relationship between year and consumed power?"
   ]
  },
  {
   "cell_type": "code",
   "execution_count": 6,
   "metadata": {},
   "outputs": [
    {
     "data": {
      "text/html": [
       "<div>\n",
       "<style scoped>\n",
       "    .dataframe tbody tr th:only-of-type {\n",
       "        vertical-align: middle;\n",
       "    }\n",
       "\n",
       "    .dataframe tbody tr th {\n",
       "        vertical-align: top;\n",
       "    }\n",
       "\n",
       "    .dataframe thead th {\n",
       "        text-align: right;\n",
       "    }\n",
       "</style>\n",
       "<table border=\"1\" class=\"dataframe\">\n",
       "  <thead>\n",
       "    <tr style=\"text-align: right;\">\n",
       "      <th></th>\n",
       "      <th>count</th>\n",
       "      <th>mean</th>\n",
       "      <th>std</th>\n",
       "      <th>min</th>\n",
       "      <th>25%</th>\n",
       "      <th>50%</th>\n",
       "      <th>75%</th>\n",
       "      <th>max</th>\n",
       "    </tr>\n",
       "    <tr>\n",
       "      <th>year</th>\n",
       "      <th></th>\n",
       "      <th></th>\n",
       "      <th></th>\n",
       "      <th></th>\n",
       "      <th></th>\n",
       "      <th></th>\n",
       "      <th></th>\n",
       "      <th></th>\n",
       "    </tr>\n",
       "  </thead>\n",
       "  <tbody>\n",
       "    <tr>\n",
       "      <th>2014</th>\n",
       "      <td>644.0</td>\n",
       "      <td>1135.736025</td>\n",
       "      <td>1964.069303</td>\n",
       "      <td>40.0</td>\n",
       "      <td>247.0</td>\n",
       "      <td>565.5</td>\n",
       "      <td>1153.50</td>\n",
       "      <td>19431.0</td>\n",
       "    </tr>\n",
       "    <tr>\n",
       "      <th>2015</th>\n",
       "      <td>721.0</td>\n",
       "      <td>1307.877947</td>\n",
       "      <td>1955.108548</td>\n",
       "      <td>40.0</td>\n",
       "      <td>294.0</td>\n",
       "      <td>582.0</td>\n",
       "      <td>1571.00</td>\n",
       "      <td>19431.0</td>\n",
       "    </tr>\n",
       "    <tr>\n",
       "      <th>2016</th>\n",
       "      <td>935.0</td>\n",
       "      <td>1377.857754</td>\n",
       "      <td>1975.749157</td>\n",
       "      <td>47.0</td>\n",
       "      <td>414.0</td>\n",
       "      <td>720.0</td>\n",
       "      <td>1500.00</td>\n",
       "      <td>19431.0</td>\n",
       "    </tr>\n",
       "    <tr>\n",
       "      <th>2017</th>\n",
       "      <td>674.0</td>\n",
       "      <td>1462.863501</td>\n",
       "      <td>2277.975938</td>\n",
       "      <td>33.0</td>\n",
       "      <td>433.5</td>\n",
       "      <td>787.0</td>\n",
       "      <td>1477.25</td>\n",
       "      <td>19431.0</td>\n",
       "    </tr>\n",
       "    <tr>\n",
       "      <th>2018</th>\n",
       "      <td>498.0</td>\n",
       "      <td>1672.417671</td>\n",
       "      <td>2633.137685</td>\n",
       "      <td>47.0</td>\n",
       "      <td>510.0</td>\n",
       "      <td>846.0</td>\n",
       "      <td>1602.00</td>\n",
       "      <td>19431.0</td>\n",
       "    </tr>\n",
       "  </tbody>\n",
       "</table>\n",
       "</div>"
      ],
      "text/plain": [
       "      count         mean          std   min    25%    50%      75%      max\n",
       "year                                                                       \n",
       "2014  644.0  1135.736025  1964.069303  40.0  247.0  565.5  1153.50  19431.0\n",
       "2015  721.0  1307.877947  1955.108548  40.0  294.0  582.0  1571.00  19431.0\n",
       "2016  935.0  1377.857754  1975.749157  47.0  414.0  720.0  1500.00  19431.0\n",
       "2017  674.0  1462.863501  2277.975938  33.0  433.5  787.0  1477.25  19431.0\n",
       "2018  498.0  1672.417671  2633.137685  47.0  510.0  846.0  1602.00  19431.0"
      ]
     },
     "execution_count": 6,
     "metadata": {},
     "output_type": "execute_result"
    }
   ],
   "source": [
    "df.groupby(\"year\")[\"power\"].describe()"
   ]
  },
  {
   "cell_type": "markdown",
   "metadata": {},
   "source": [
    "La columna power es una columna con muchos nulos (no existe el dato en la web). El año con menos nulos es el 2016, es por ello que si se suman, todos los datos, parece que no tiene mucha relación.\n",
    "\n",
    "Sin embargo, la media de la potencia consumida si que va aumentando a lo largo de los años (ordenadores más potente que consumen más). Curiosamente, existe un ordenador con una potencia máxima de 19431 kW todos los años.\n",
    "\n",
    "Esto se observa mejor en las siguientes gráficas."
   ]
  },
  {
   "cell_type": "code",
   "execution_count": 7,
   "metadata": {},
   "outputs": [
    {
     "data": {
      "image/png": "[encoded data removed]",
      "text/plain": [
       "<Figure size 432x288 with 1 Axes>"
      ]
     },
     "metadata": {
      "needs_background": "light"
     },
     "output_type": "display_data"
    }
   ],
   "source": [
    "# Your code here\n",
    "import matplotlib.pyplot as plt\n",
    "\n",
    "suma = df.groupby(\"year\")[\"power\"].sum()\n",
    "media = df.groupby(\"year\")[\"power\"].mean()\n",
    "\n",
    "plt.bar(suma.index, suma);"
   ]
  },
  {
   "cell_type": "code",
   "execution_count": 8,
   "metadata": {},
   "outputs": [
    {
     "data": {
      "image/png": "[encoded data removed]",
      "text/plain": [
       "<Figure size 432x288 with 1 Axes>"
      ]
     },
     "metadata": {
      "needs_background": "light"
     },
     "output_type": "display_data"
    }
   ],
   "source": [
    "plt.bar(media.index, media);"
   ]
  },
  {
   "cell_type": "code",
   "execution_count": 10,
   "metadata": {},
   "outputs": [
    {
     "data": {
      "image/png": "[encoded data removed]",
      "text/plain": [
       "<Figure size 432x288 with 2 Axes>"
      ]
     },
     "metadata": {
      "needs_background": "light"
     },
     "output_type": "display_data"
    }
   ],
   "source": [
    "import numpy as np\n",
    "import seaborn as sns\n",
    "\n",
    "ax = sns.heatmap(df.corr())"
   ]
  },
  {
   "cell_type": "code",
   "execution_count": 11,
   "metadata": {},
   "outputs": [
    {
     "data": {
      "text/html": [
       "<div>\n",
       "<style scoped>\n",
       "    .dataframe tbody tr th:only-of-type {\n",
       "        vertical-align: middle;\n",
       "    }\n",
       "\n",
       "    .dataframe tbody tr th {\n",
       "        vertical-align: top;\n",
       "    }\n",
       "\n",
       "    .dataframe thead th {\n",
       "        text-align: right;\n",
       "    }\n",
       "</style>\n",
       "<table border=\"1\" class=\"dataframe\">\n",
       "  <thead>\n",
       "    <tr style=\"text-align: right;\">\n",
       "      <th></th>\n",
       "      <th>ranking</th>\n",
       "      <th>year</th>\n",
       "      <th>month</th>\n",
       "      <th>cores</th>\n",
       "      <th>rmax</th>\n",
       "      <th>rpeak</th>\n",
       "      <th>power</th>\n",
       "    </tr>\n",
       "  </thead>\n",
       "  <tbody>\n",
       "    <tr>\n",
       "      <th>ranking</th>\n",
       "      <td>1.000000</td>\n",
       "      <td>0.000000</td>\n",
       "      <td>0.000000</td>\n",
       "      <td>-0.163636</td>\n",
       "      <td>-0.261547</td>\n",
       "      <td>-0.255212</td>\n",
       "      <td>-0.322173</td>\n",
       "    </tr>\n",
       "    <tr>\n",
       "      <th>year</th>\n",
       "      <td>0.000000</td>\n",
       "      <td>1.000000</td>\n",
       "      <td>0.000000</td>\n",
       "      <td>0.058156</td>\n",
       "      <td>0.134356</td>\n",
       "      <td>0.148926</td>\n",
       "      <td>0.073389</td>\n",
       "    </tr>\n",
       "    <tr>\n",
       "      <th>month</th>\n",
       "      <td>0.000000</td>\n",
       "      <td>0.000000</td>\n",
       "      <td>1.000000</td>\n",
       "      <td>0.011967</td>\n",
       "      <td>0.019298</td>\n",
       "      <td>0.022471</td>\n",
       "      <td>0.020783</td>\n",
       "    </tr>\n",
       "    <tr>\n",
       "      <th>cores</th>\n",
       "      <td>-0.163636</td>\n",
       "      <td>0.058156</td>\n",
       "      <td>0.011967</td>\n",
       "      <td>1.000000</td>\n",
       "      <td>0.706740</td>\n",
       "      <td>0.688172</td>\n",
       "      <td>0.421592</td>\n",
       "    </tr>\n",
       "    <tr>\n",
       "      <th>rmax</th>\n",
       "      <td>-0.261547</td>\n",
       "      <td>0.134356</td>\n",
       "      <td>0.019298</td>\n",
       "      <td>0.706740</td>\n",
       "      <td>1.000000</td>\n",
       "      <td>0.990382</td>\n",
       "      <td>0.502945</td>\n",
       "    </tr>\n",
       "    <tr>\n",
       "      <th>rpeak</th>\n",
       "      <td>-0.255212</td>\n",
       "      <td>0.148926</td>\n",
       "      <td>0.022471</td>\n",
       "      <td>0.688172</td>\n",
       "      <td>0.990382</td>\n",
       "      <td>1.000000</td>\n",
       "      <td>0.509172</td>\n",
       "    </tr>\n",
       "    <tr>\n",
       "      <th>power</th>\n",
       "      <td>-0.322173</td>\n",
       "      <td>0.073389</td>\n",
       "      <td>0.020783</td>\n",
       "      <td>0.421592</td>\n",
       "      <td>0.502945</td>\n",
       "      <td>0.509172</td>\n",
       "      <td>1.000000</td>\n",
       "    </tr>\n",
       "  </tbody>\n",
       "</table>\n",
       "</div>"
      ],
      "text/plain": [
       "          ranking      year     month     cores      rmax     rpeak     power\n",
       "ranking  1.000000  0.000000  0.000000 -0.163636 -0.261547 -0.255212 -0.322173\n",
       "year     0.000000  1.000000  0.000000  0.058156  0.134356  0.148926  0.073389\n",
       "month    0.000000  0.000000  1.000000  0.011967  0.019298  0.022471  0.020783\n",
       "cores   -0.163636  0.058156  0.011967  1.000000  0.706740  0.688172  0.421592\n",
       "rmax    -0.261547  0.134356  0.019298  0.706740  1.000000  0.990382  0.502945\n",
       "rpeak   -0.255212  0.148926  0.022471  0.688172  0.990382  1.000000  0.509172\n",
       "power   -0.322173  0.073389  0.020783  0.421592  0.502945  0.509172  1.000000"
      ]
     },
     "execution_count": 11,
     "metadata": {},
     "output_type": "execute_result"
    }
   ],
   "source": [
    "df._get_numeric_data().corr()"
   ]
  },
  {
   "cell_type": "markdown",
   "metadata": {},
   "source": [
    "No obstante, observamos en el mapa de calor que realmente no existe una correlación directa entre ambas variables (la correlación es cercana a 0).\n",
    "\n",
    "Por tanto, aunque hay cierta relación entre la tendencia de la potencia y el año, no lo hay de manera directa entre ambas variables."
   ]
  },
  {
   "cell_type": "markdown",
   "metadata": {},
   "source": [
    "# Is there a relationship between power and cores?"
   ]
  },
  {
   "cell_type": "markdown",
   "metadata": {},
   "source": [
    "Existe cierta relación entre ambas variables, aunque menor de la que existe entre los cores y el rmax o el rpeak:"
   ]
  },
  {
   "cell_type": "markdown",
   "metadata": {},
   "source": [
    "# Which is the company with more supercomputers?"
   ]
  },
  {
   "cell_type": "code",
   "execution_count": 12,
   "metadata": {},
   "outputs": [
    {
     "data": {
      "text/plain": [
       "Lenovo       257\n",
       "Inspur       152\n",
       "HPE          125\n",
       "Sugon        112\n",
       "Cray Inc.    102\n",
       "Name: company, dtype: int64"
      ]
     },
     "execution_count": 12,
     "metadata": {},
     "output_type": "execute_result"
    }
   ],
   "source": [
    "# Your code here\n",
    "\n",
    "df[df[\"year\"]==2018][\"company\"].value_counts().head()"
   ]
  },
  {
   "cell_type": "markdown",
   "metadata": {},
   "source": [
    "Lenovo"
   ]
  },
  {
   "cell_type": "markdown",
   "metadata": {},
   "source": [
    "# Which country have more computacional power?"
   ]
  },
  {
   "cell_type": "code",
   "execution_count": 13,
   "metadata": {},
   "outputs": [
    {
     "data": {
      "text/plain": [
       "China             433\n",
       "United States     233\n",
       "Japan              67\n",
       "United Kingdom     42\n",
       "Germany            38\n",
       "Name: country, dtype: int64"
      ]
     },
     "execution_count": 13,
     "metadata": {},
     "output_type": "execute_result"
    }
   ],
   "source": [
    "# Your code here\n",
    "\n",
    "df[df[\"year\"]==2018][\"country\"].value_counts().head()"
   ]
  },
  {
   "cell_type": "markdown",
   "metadata": {},
   "source": [
    "China"
   ]
  },
  {
   "cell_type": "markdown",
   "metadata": {},
   "source": [
    "# The computacional power has increased over the years?"
   ]
  },
  {
   "cell_type": "markdown",
   "metadata": {
    "scrolled": false
   },
   "source": [
    "Como se ve en la primera pregunta, la suma total de potencia no es mayor, ya que es un valor con muchos nulos.\n",
    "\n",
    "Sin embargo, la media de las potencias de los ordenadores si que aumenta a los largo de los años, por lo que se puede afirmar que sí que aumentan."
   ]
  },
  {
   "cell_type": "code",
   "execution_count": 14,
   "metadata": {},
   "outputs": [
    {
     "data": {
      "image/png": "[encoded data removed]",
      "text/plain": [
       "<Figure size 432x288 with 1 Axes>"
      ]
     },
     "metadata": {
      "needs_background": "light"
     },
     "output_type": "display_data"
    }
   ],
   "source": [
    "plt.bar(media.index, media);"
   ]
  },
  {
   "cell_type": "code",
   "execution_count": null,
   "metadata": {},
   "outputs": [],
   "source": []
  }
 ],
 "metadata": {
  "kernelspec": {
   "display_name": "Python 3",
   "language": "python",
   "name": "python3"
  },
  "language_info": {
   "codemirror_mode": {
    "name": "ipython",
    "version": 3
   },
   "file_extension": ".py",
   "mimetype": "text/x-python",
   "name": "python",
   "nbconvert_exporter": "python",
   "pygments_lexer": "ipython3",
   "version": "3.7.3"
  }
 },
 "nbformat": 4,
 "nbformat_minor": 2
}
